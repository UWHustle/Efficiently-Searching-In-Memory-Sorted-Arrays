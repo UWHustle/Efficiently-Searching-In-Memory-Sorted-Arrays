{
 "cells": [
  {
   "cell_type": "code",
   "execution_count": 17,
   "metadata": {},
   "outputs": [],
   "source": [
    "# Plot colors\n",
    "lblue=\"#a6cee3\"\n",
    "blue = \"#1f78b4\"\n",
    "lgreen = \"#b2df8a\"\n",
    "green = \"#33a02c\"\n",
    "black= \"#424242\"\n",
    "\n",
    "\n",
    "from os import path, remove\n",
    "import sys\n",
    "import subprocess\n",
    "from subprocess import call,check_output, DEVNULL\n",
    "from pandas import read_csv\n",
    "from os import path\n",
    "%matplotlib inline\n",
    "import matplotlib.pyplot as plt\n",
    "import numpy as np\n",
    "from matplotlib.ticker import MaxNLocator\n",
    "\n",
    "def validate_args(datasetSize, distribution, parameter, searchAlgo, recordSizeBytes, nThreads):\n",
    "    if recordSizeBytes not in [8,32,128]:\n",
    "        print(\"The valid record size options are 8,32,128\")\n",
    "        exit()\n",
    "\n",
    "# Adds a experiment to the tsv configuration file. Each experiment described the dataset \n",
    "# that is going to be searched and which search algorithm is going to be used.\n",
    "# Input Args:\n",
    "#             tsvpath: the path of the tsvfile\n",
    "#             datasetSize: number of records of the dataset to be searched\n",
    "#             distribution: distribution of the keys of the dataset to be searched\n",
    "#             parameter:    datasets parameter\n",
    "#             searchAlgo: name of the search algorithm to use\n",
    "#             recordSizeBytes: size of record (key + payload)\n",
    "#             nThreads: number of threads to be used for search\n",
    "def add_to_tsv(tsvpath, datasetSize, distribution, parameter, searchAlgo, recordSizeBytes, nThreads):\n",
    "    validate_args(datasetSize, distribution, parameter,searchAlgo, recordSizeBytes, nThreads)\n",
    "    if not path.exists(\"results/\"+tsvpath):\n",
    "        with open(\"results/\"+tsvpath, \"w\") as f:\n",
    "            f.write(\"DatasetSize\\tDistribution\\tParameter\\tSearchAlgorithm\\tRecordSizeBytes\\t#threads\\n\")\n",
    "    with open(\"results/\"+tsvpath, \"a\") as f:\n",
    "        conf = str(datasetSize)+\"\\t\"+ \\\n",
    "               str(distribution)+\"\\t\"+ \\\n",
    "               str(parameter)+\"\\t\"+ \\\n",
    "               str(searchAlgo)+\"\\t\"+ \\\n",
    "               str(recordSizeBytes)+\"\\t\"+ \\\n",
    "               str(nThreads)+\"\\n\"\n",
    "        f.write(conf)\n",
    "    \n",
    "def rm_tsv(tsvpath):\n",
    "    if path.exists(\"results/\"+tsvpath):\n",
    "        remove(\"results/\"+tsvpath)\n",
    "\n",
    "def UaR_to_tsv(tsvpath, datasetSize, searchAlgo, recordSizeBytes, nThreads, parameter=42):\n",
    "    add_to_tsv(tsvpath, datasetSize, \"uniform\", parameter, searchAlgo, recordSizeBytes, nThreads)\n",
    "    \n",
    "def fbids_to_tsv(tsvpath, searchAlgo, recordSizeBytes, nThreads):\n",
    "    add_to_tsv(tsvpath, 1, \"file\", \"src/datasets/fb/fb-289000.txt\", searchAlgo, recordSizeBytes, nThreads)\n",
    "    \n",
    "def freq1_to_tsv(tsvpath, searchAlgo, recordSizeBytes, nThreads):\n",
    "    add_to_tsv(tsvpath, 1, \"file\", \"src/datasets/wf/wiki.txt\", searchAlgo, recordSizeBytes, nThreads)\n",
    "    \n",
    "def freq2_to_tsv(tsvpath, searchAlgo, recordSizeBytes, nThreads):\n",
    "    add_to_tsv(tsvpath, 1, \"file\", \"src/datasets/wf/newman.txt\", searchAlgo, recordSizeBytes, nThreads)\n",
    "\n",
    "def fal_to_tsv(tsvpath, searchAlgo, recordSizeBytes, nThreads, parameter, datasetSize):\n",
    "    add_to_tsv(tsvpath, datasetSize, \"fal\", parameter, searchAlgo, recordSizeBytes, nThreads)\n",
    "\n",
    "def cfal_to_tsv(tsvpath, searchAlgo, recordSizeBytes, nThreads, parameter, datasetSize):\n",
    "    add_to_tsv(tsvpath, datasetSize, \"cfal\", parameter, searchAlgo, recordSizeBytes, nThreads)\n",
    "\n",
    "def gap_to_tsv(tsvpath, searchAlgo, recordSizeBytes, nThreads, random_seed, shape, datasetSize):\n",
    "    add_to_tsv(tsvpath, datasetSize, \"gap\", str(random_seed)+\",\"+str(shape), searchAlgo, recordSizeBytes, nThreads)\n",
    "    "
   ]
  },
  {
   "cell_type": "code",
   "execution_count": 18,
   "metadata": {},
   "outputs": [],
   "source": [
    "def run(tsvname):\n",
    "    if not path.exists(\"../searchbench\"):\n",
    "        print(\"Please make sure searchbench is compiled. You can compile this by running make on the parent directory.\")\n",
    "        sys.exit()\n",
    "        \n",
    "    resultFile=\"results/\"+tsvname+\".out\"\n",
    "    if path.exists(resultFile):\n",
    "        print(\"This tsv has been already executed and the results have been saved.\")\n",
    "        print(\"If you want to rerun the experiments please delete the file: \"+tsvname+\".out\")\n",
    "    else:\n",
    "        with open(resultFile, \"w\") as log_file:\n",
    "            subprocess.run([\"python3\",\"./getTimes.py\",\"./reproduce_experiments/results/\"+tsvname], stdout=log_file, stderr=DEVNULL, cwd=\"../\") "
   ]
  },
  {
   "cell_type": "code",
   "execution_count": 19,
   "metadata": {},
   "outputs": [],
   "source": [
    "import csv\n",
    "\n",
    "def get_results(tsvname):\n",
    "    times=[]\n",
    "    with open(\"results/\"+tsvname+\".out\", newline='') as csvfile:\n",
    "        csvreader = csv.reader(csvfile, delimiter='\\t')\n",
    "        for row in csvreader:\n",
    "            if len(row)>0 and row[0][0].isdigit():\n",
    "                times.append(float(row[0].split()[7]))\n",
    "    return times"
   ]
  },
  {
   "cell_type": "markdown",
   "metadata": {},
   "source": [
    "\n",
    "#### Figure 2"
   ]
  },
  {
   "cell_type": "code",
   "execution_count": 20,
   "metadata": {},
   "outputs": [
    {
     "name": "stdout",
     "output_type": "stream",
     "text": [
      "This tsv has been already executed and the results have been saved.\n",
      "If you want to rerun the experiments please delete the file: fig2.tsv.out\n",
      "Caption: Speedup achieved by Interpolation Search methods over Binary Search on real datasets. The first two dataset UaR and fb_ids are uniformly distributed datasets, where as fal-1.05 and freq1 are skewed datasets. 8 Byte record are used.\n"
     ]
    },
    {
     "data": {
      "image/png": "[encoded data removed]",
      "text/plain": [
       "<Figure size 720x360 with 1 Axes>"
      ]
     },
     "metadata": {
      "needs_background": "light"
     },
     "output_type": "display_data"
    }
   ],
   "source": [
    "tsv = \"fig2.tsv\"\n",
    "rm_tsv(tsv)\n",
    "\n",
    "# TODO(faster)\n",
    "size=5 #8\n",
    "for algorithm in [\"bs\", \"sip\", \"is\", \"tip\"]:\n",
    "    UaR_to_tsv(tsv, 10**size, algorithm, 8, 1)\n",
    "    \n",
    "for algorithm in [\"bs\", \"sip\", \"is\", \"tip\"]:\n",
    "    fbids_to_tsv(tsv, algorithm, 8, 1) \n",
    "    \n",
    "for algorithm in [\"bs\", \"tip\"]:\n",
    "    fal_to_tsv(tsv, algorithm, 8, 1, 1.05, 10**size) \n",
    "\n",
    "for algorithm in [\"bs\", \"tip\"]:\n",
    "    freq1_to_tsv(tsv, algorithm, 8, 1)\n",
    "\n",
    "run(tsv)\n",
    "results=get_results(tsv)\n",
    "\n",
    "uarResults=results[0:4]\n",
    "fbidsResults=results[4:8]\n",
    "falResults=results[8:10]\n",
    "freq1Results=results[10:12]\n",
    "\n",
    "# Calculate speedups of sip, is and tip compard to Binary Search\n",
    "uarSpeedups = []\n",
    "for i in range(1,len(uarResults)):\n",
    "    uarSpeedups.append(uarResults[0]/uarResults[i])\n",
    "\n",
    "fbidsSpeedups = []\n",
    "for i in range(1,len(fbidsResults)):\n",
    "    fbidsSpeedups.append(fbidsResults[0]/fbidsResults[i])\n",
    "\n",
    "falSpeedups = []\n",
    "for i in range(1,len(falResults)):\n",
    "    falSpeedups.append(falResults[0]/falResults[i])\n",
    "    \n",
    "freq1Speedups = []\n",
    "for i in range(1,len(freq1Results)):\n",
    "    freq1Speedups.append(freq1Results[0]/freq1Results[i])\n",
    "\n",
    "    \n",
    "# Plot\n",
    "# Group the speedups by algorithm\n",
    "tipSpeedups=[uarSpeedups[0], fbidsSpeedups[0], falSpeedups[0], freq1Speedups[0]]\n",
    "ISSpeedups=[uarSpeedups[1], fbidsSpeedups[1],0,0]\n",
    "sipSpeedups=[uarSpeedups[2], fbidsSpeedups[2],0,0]\n",
    "\n",
    "labels=[\"UaR\", \"fb\", \"fal-1.05\", \"wf\"]\n",
    "pos = [0,1,2,3]\n",
    "width = 0.25 \n",
    "\n",
    "fig, ax = plt.subplots(figsize=(10,5))\n",
    "plt.bar(pos, \n",
    "        tipSpeedups, \n",
    "        width, \n",
    "        alpha=0.5, \n",
    "        color=lblue, \n",
    "        label=\"TIP\") \n",
    "\n",
    "plt.bar([p + width+.02 for p in pos], \n",
    "        ISSpeedups,\n",
    "        width, \n",
    "        alpha=0.5, \n",
    "        color=blue, \n",
    "        label=\"Interpolation Search\",\n",
    "        hatch=\"\\\\\") \n",
    "\n",
    "plt.bar([p + width*2+.04 for p in pos], \n",
    "        sipSpeedups,\n",
    "        width, \n",
    "        alpha=0.5, \n",
    "        color=lgreen, \n",
    "        label=\"SIP\",\n",
    "        hatch=\"-\") \n",
    "\n",
    "plt.plot([-1,5],[1,1],linestyle=\"dashed\", color=black, label=\"BS\")\n",
    "\n",
    "ax.set_ylabel('Speedup', size=18)\n",
    "\n",
    "ax.set_title('Figure 2', size=22)\n",
    "\n",
    "# Set the position of the x ticks\n",
    "ax.set_xticks([p + 1.5 * width for p in pos])\n",
    "ax.yaxis.set_major_locator(MaxNLocator(integer=True))\n",
    "\n",
    "# Set the labels for the x ticks\n",
    "ax.set_xticklabels(labels, size=15)\n",
    "ax.tick_params(axis='both', which='major', labelsize=16)\n",
    "\n",
    "# Setting the x-axis and y-axis limits\n",
    "plt.xlim(min(pos)-width, max(pos)+width*4)\n",
    "# plt.ylim([0, max(df['pre_score'] + df['mid_score'] + df['post_score'])] )\n",
    "\n",
    "# Adding the legend and showing the plot\n",
    "plt.legend(['TIP', 'Interpolation Search', 'SIP'], loc='upper right')\n",
    "plt.legend(prop={'size': 15})\n",
    "\n",
    "plt.gcf().savefig('./figures/fig2.pdf', format='pdf')\n",
    "\n",
    "print(\"Caption: Speedup achieved by Interpolation Search methods over Binary Search on real datasets. The first two dataset UaR and fb_ids are uniformly distributed datasets, where as fal-1.05 and freq1 are skewed datasets. 8 Byte record are used.\")"
   ]
  },
  {
   "cell_type": "markdown",
   "metadata": {},
   "source": [
    "#### Figure 5"
   ]
  },
  {
   "cell_type": "code",
   "execution_count": 21,
   "metadata": {},
   "outputs": [
    {
     "name": "stdout",
     "output_type": "stream",
     "text": [
      "This tsv has been already executed and the results have been saved.\n",
      "If you want to rerun the experiments please delete the file: fig5.tsv.out\n",
      "Caption: Comparison of SIP, TIP and Binary Search on the fb_ids dataset, over different record sizes.\n"
     ]
    },
    {
     "data": {
      "image/png": "[encoded data removed]",
      "text/plain": [
       "<Figure size 1080x360 with 1 Axes>"
      ]
     },
     "metadata": {
      "needs_background": "light"
     },
     "output_type": "display_data"
    }
   ],
   "source": [
    "# algos: i-hyp-64, i-opt-8, bs\n",
    "# datasets: fb\n",
    "# record-size: 8,32,128\n",
    "\n",
    "tsv=\"fig5.tsv\"\n",
    "rm_tsv(tsv)\n",
    "\n",
    "for recordSize in [8,32,128]:\n",
    "    for algorithm in [\"sip\", \"bs\", \"tip\", \"is\"]:\n",
    "        fbids_to_tsv(tsv, algorithm, recordSize, 1)\n",
    "\n",
    "run(tsv)\n",
    "results=get_results(tsv)\n",
    "\n",
    "# Plot\n",
    "# Group the results by algorithm\n",
    "sipResult=[results[0], results[4], results[8]]\n",
    "bsResult=[results[1], results[5], results[9]]\n",
    "tipResult=[results[2], results[6], results[10]]\n",
    "isResult=[results[3], results[7], results[11]]\n",
    "\n",
    "pos = [0,1,2]\n",
    "width = 0.20 \n",
    "\n",
    "fig, ax = plt.subplots(figsize=(15,5))\n",
    "plt.bar(pos, \n",
    "        sipResult, \n",
    "        width, \n",
    "        alpha=0.5, \n",
    "        color=lblue, \n",
    "        label=\"SIP\") \n",
    "\n",
    "plt.bar([p + (width+.02)*1 for p in pos], \n",
    "        bsResult,\n",
    "        width, \n",
    "        alpha=0.5, \n",
    "        color=blue, \n",
    "        label=\"Binary Search\",\n",
    "        hatch=\"\\\\\") \n",
    "\n",
    "plt.bar([p + (width+.02)*2 for p in pos], \n",
    "        tipResult,\n",
    "        width, \n",
    "        alpha=0.5, \n",
    "        color=lgreen, \n",
    "        label=\"TIP\",\n",
    "        hatch=\"-\")\n",
    "\n",
    "plt.bar([p + (width+.02)*3 for p in pos], \n",
    "        isResult,\n",
    "        width, \n",
    "        alpha=0.5, \n",
    "        color=green, \n",
    "        label=\"Interpolation Search\") \n",
    "\n",
    "ax.set_ylabel('Time(ns)', size=18)\n",
    "\n",
    "ax.set_title('Figure 5', size=22)\n",
    "\n",
    "# Set the position of the x ticks\n",
    "ax.set_xticks([p + 1.5 * width for p in pos])\n",
    "ax.yaxis.set_major_locator(MaxNLocator(integer=True))\n",
    "\n",
    "# Set the labels for the x ticks\n",
    "ax.set_xticklabels([\"8\",\"32\",\"128\"], size=15)\n",
    "ax.tick_params(axis='both', which='major', labelsize=16)\n",
    "\n",
    "# Setting the x-axis and y-axis limits\n",
    "plt.xlim(min(pos)-width, max(pos)+width*4)\n",
    "# plt.ylim([0, max(df['pre_score'] + df['mid_score'] + df['post_score'])] )\n",
    "\n",
    "# Adding the legend and showing the plot\n",
    "plt.legend(['SIP', 'Binary Search', 'TIP', 'Interpolation Search' ], loc='upper right')\n",
    "plt.legend(prop={'size': 15})\n",
    "\n",
    "plt.gcf().savefig('./figures/fig5.pdf', format='pdf')\n",
    "\n",
    "\n",
    "print(\"Caption: Comparison of SIP, TIP and Binary Search on the fb_ids dataset, over different record sizes.\")"
   ]
  },
  {
   "cell_type": "markdown",
   "metadata": {},
   "source": [
    "#### Figure 6"
   ]
  },
  {
   "cell_type": "code",
   "execution_count": 22,
   "metadata": {},
   "outputs": [
    {
     "name": "stdout",
     "output_type": "stream",
     "text": [
      "This tsv has been already executed and the results have been saved.\n",
      "If you want to rerun the experiments please delete the file: fig6.tsv.out\n",
      "[[1.5985324538464543, 1.6499805289057246, 0.7792809559871131], [1.6499805289057246, 0.7792809559871131, 0.9822352513551528], [0.7792809559871131, 0.9822352513551528, 1.3270529455267643]]\n",
      "Caption: Speedup of SIP compared to Binary Search for different dataset and record sizes, on the UaR dataset. 10^9 records of size 128B exceed the memory capacity.\n"
     ]
    },
    {
     "data": {
      "image/png": "[encoded data removed]",
      "text/plain": [
       "<Figure size 936x360 with 1 Axes>"
      ]
     },
     "metadata": {
      "needs_background": "light"
     },
     "output_type": "display_data"
    }
   ],
   "source": [
    "# algos: i-opt-8, bs\n",
    "# datasets: UaR\n",
    "# record-size: 8,32,128\n",
    "    \n",
    "\n",
    "tsv=\"fig6.tsv\"\n",
    "rm_tsv(tsv)\n",
    "\n",
    "#TODO(faster)\n",
    "datasetSizes=[3,4,5]#,6,7,8,9]\n",
    "for algorithm in [\"bs\", \"sip\"]:\n",
    "    for datasetSize in datasetSizes:\n",
    "        for recordSize in [8,32,128]:\n",
    "            UaR_to_tsv(tsv, 10**datasetSize, algorithm, recordSize, 1)   \n",
    "            \n",
    "run(tsv)\n",
    "results=get_results(tsv)\n",
    "\n",
    "# Group the results by algorithm\n",
    "bsResults=results[0:(len(results)//2)]\n",
    "sipResults=results[(len(results)//2):len(results)]\n",
    "\n",
    "# Calculate speedup\n",
    "sipSpeedup=[(bsResults[i]/sipResults[i]) for i in range(len(bsResults))]\n",
    "\n",
    "# Plot\n",
    "# Group the speedups by RecordSize\n",
    "groupedByRecordSize = [[],[],[]]\n",
    "for i in range(len(datasetSizes)):\n",
    "    groupedByRecordSize[0].append(sipSpeedup[i])\n",
    "    groupedByRecordSize[1].append(sipSpeedup[i+1])\n",
    "    groupedByRecordSize[2].append(sipSpeedup[i+2])\n",
    "print(groupedByRecordSize)\n",
    "\n",
    "pos = [i for i in range(len(datasetSizes))]\n",
    "width = 0.08\n",
    "\n",
    "fig, ax = plt.subplots(figsize=(13,5))\n",
    "\n",
    "\n",
    "plt.bar(pos, \n",
    "        groupedByRecordSize[0], \n",
    "        width, \n",
    "        alpha=0.5, \n",
    "        color=lblue, \n",
    "        label=\"8\") \n",
    "\n",
    "plt.bar([p + (width+.02)*1 for p in pos], \n",
    "        groupedByRecordSize[1],\n",
    "        width, \n",
    "        alpha=0.5, \n",
    "        color=blue, \n",
    "        label=\"32\",\n",
    "        hatch=\"\\\\\") \n",
    "\n",
    "plt.bar([p + (width+.02)*2 for p in pos], \n",
    "        groupedByRecordSize[2],\n",
    "        width, \n",
    "        alpha=0.5, \n",
    "        color=lgreen, \n",
    "        label=\"128\",\n",
    "        hatch=\"-\")\n",
    "\n",
    "plt.plot([-1,len(datasetSizes)],[1,1],linestyle=\"dashed\", color=black, label=\"BS\")\n",
    "\n",
    "ax.set_ylabel('Speedup', size=18)\n",
    "\n",
    "ax.set_title('Figure 6', size=22)\n",
    "\n",
    "# Set the position of the x ticks\n",
    "ax.set_xticks([p + 1.5 * width for p in pos])\n",
    "ax.yaxis.set_major_locator(MaxNLocator(integer=True))\n",
    "\n",
    "# Set the labels for the x ticks\n",
    "xticks=[\"10^\"+str(i) for i in datasetSizes]\n",
    "ax.set_xticklabels(xticks, size=15)\n",
    "ax.tick_params(axis='both', which='major', labelsize=16)\n",
    "\n",
    "# Setting the x-axis and y-axis limits\n",
    "plt.xlim(min(pos)-width, max(pos)+width*4)\n",
    "# plt.ylim([0, max(df['pre_score'] + df['mid_score'] + df['post_score'])] )\n",
    "\n",
    "# Adding the legend and showing the plot\n",
    "plt.legend( loc='upper center', bbox_to_anchor=(0.5, 1.05))\n",
    "plt.legend(prop={'size': 15})\n",
    "\n",
    "plt.gcf().savefig('./figures/fig6.pdf', format='pdf')\n",
    "\n",
    "\n",
    "print(\"Caption: Speedup of SIP compared to Binary Search for different dataset and record sizes, on the UaR dataset. 10^9 records of size 128B exceed the memory capacity.\")\n"
   ]
  },
  {
   "cell_type": "markdown",
   "metadata": {},
   "source": [
    "#### Figure 7"
   ]
  },
  {
   "cell_type": "code",
   "execution_count": 24,
   "metadata": {
    "collapsed": true
   },
   "outputs": [
    {
     "name": "stdout",
     "output_type": "stream",
     "text": [
      "[37.937, 22.803, 63.8612, 26.6166, 99.33492, 35.47508]\n"
     ]
    }
   ],
   "source": [
    "# algos: i-opt-8, bs\n",
    "# datasets: UaR(10^3 - 10^9)\n",
    "# record-size: 32\n",
    "    \n",
    "tsv=\"fig7.tsv\"\n",
    "rm_tsv(tsv)\n",
    "\n",
    "#TODO(faster)\n",
    "for datasetSize in [3,4,5]:#,6,7,8,9]:\n",
    "    for algorithm in [\"bs\", \"sip\"]:\n",
    "            UaR_to_tsv(tsv, 10**datasetSize, algorithm, 32, 1)  \n",
    "    \n",
    "run(tsv)\n",
    "results=get_results(tsv)\n",
    "print(results)\n",
    "\n",
    "# X: Numver of records(log)\n",
    "# Y: times"
   ]
  },
  {
   "cell_type": "markdown",
   "metadata": {},
   "source": [
    "#### Figure 8"
   ]
  },
  {
   "cell_type": "code",
   "execution_count": 25,
   "metadata": {},
   "outputs": [
    {
     "name": "stdout",
     "output_type": "stream",
     "text": [
      "This tsv has been already executed and the results have been saved.\n",
      "If you want to rerun the experiments please delete the file: fig7.tsv.out\n",
      "[37.937, 22.803, 63.8612, 26.6166, 99.33492, 35.47508]\n"
     ]
    }
   ],
   "source": [
    "tsv8=\"fig8_8.tsv\"\n",
    "tsv32=\"fig8_32.tsv\"\n",
    "tsv128=\"fig8_128.tsv\"\n",
    "rm_tsv(tsv8)\n",
    "rm_tsv(tsv32)\n",
    "rm_tsv(tsv128)\n",
    "\n",
    "#TODO(add iseq)\n",
    "for algorithm in [\"sip\", \"iseq\"]:\n",
    "    for datasetSize in [3,4,5,6,7]:\n",
    "        for gapShape in [0.7,0.9,0.99,0.99999]:\n",
    "               gap_to_tsv(tsv8, algorithm, 8, 1, 47,gapShape, 10**datasetSize)\n",
    "                \n",
    "for algorithm in [\"sip\", \"iseq\"]:\n",
    "    for datasetSize in [3,4,5,6,7]:\n",
    "        for gapShape in [0.7,0.9,0.99,0.99999]:\n",
    "               gap_to_tsv(tsv32, algorithm, 8, 1, 47,gapShape, 10**datasetSize)\n",
    "                \n",
    "for algorithm in [\"sip\", \"iseq\"]:\n",
    "    for datasetSize in [3,4,5,6,7]:\n",
    "        for gapShape in [0.7,0.9,0.99,0.99999]:\n",
    "               gap_to_tsv(tsv128, algorithm, 8, 1, 47,gapShape, 10**datasetSize)\n",
    "            \n",
    "run(tsv)\n",
    "results=get_results(tsv)\n",
    "print(results)\n",
    "\n",
    "# X: Numver of records\n",
    "# Y: speedup sip vs iseq"
   ]
  },
  {
   "cell_type": "markdown",
   "metadata": {},
   "source": [
    "#### Figure 9"
   ]
  },
  {
   "cell_type": "code",
   "execution_count": 26,
   "metadata": {},
   "outputs": [
    {
     "name": "stdout",
     "output_type": "stream",
     "text": [
      "[32.782, 29.248, 25.668, 23.771, 49.9097, 50.4019, 49.0005, 48.8952, 78.02209, 78.13715, 76.32965, 77.48884, 30.244, 16.172, 24.747, 28.46, 38.7271, 16.6567, 30.5401, 31.1472, 52.32674, 30.17833, 40.57563, 48.99807, 32.258, 29.782, 23.524, 20.586, 50.2881, 49.594, 49.2459, 50.2249, 78.72139, 78.50125, 78.36136, 77.85273, 38.813, 34.895, 32.993, 30.077, 43.3809, 44.1489, 42.7334, 38.1973, 55.36159, 59.18234, 55.20911, 50.09433]\n"
     ]
    }
   ],
   "source": [
    "tsv=\"fig9.tsv\"\n",
    "rm_tsv(tsv)\n",
    "\n",
    "#TODO(faster)\n",
    "for algorithm in [\"bs\", \"tip\"]:\n",
    "    for datasetSize in [3,4,5]:#,6,7,8,9]:\n",
    "        for shape in [0.5,1.05,1.25,1.5]:\n",
    "            fal_to_tsv(tsv, algorithm, 8, 1, shape, 10**datasetSize)\n",
    "\n",
    "for algorithm in [\"bs\", \"tip\"]:\n",
    "    for datasetSize in [3,4,5]:#,6,7,8,9]:\n",
    "        for shape in [0.5,1.05,1.25,1.5]:\n",
    "            cfal_to_tsv(tsv, algorithm, 8, 1, shape, 10**datasetSize)\n",
    "\n",
    "run(tsv)\n",
    "results=get_results(tsv)\n",
    "print(results)\n",
    "\n",
    "# X: Numver of records\n",
    "# Y: times"
   ]
  },
  {
   "cell_type": "markdown",
   "metadata": {},
   "source": [
    "#### Figure 10"
   ]
  },
  {
   "cell_type": "code",
   "execution_count": 27,
   "metadata": {},
   "outputs": [
    {
     "name": "stdout",
     "output_type": "stream",
     "text": [
      "[37.844557, 38.034927, 37.076969, 37.866173, 37.44572, 37.618526, 37.452941, 37.341657, 37.060561, 37.368671, 38.096356, 39.502516]\n"
     ]
    }
   ],
   "source": [
    "tsv=\"fig10.tsv\"\n",
    "rm_tsv(tsv)\n",
    "\n",
    "#TODO(addiseq)\n",
    "for algorithm in [\"sip\", \"iseq\"]:\n",
    "    for datasetSize in [3,4,5]:\n",
    "        for shape in [0.5,1.05,1.25,1.5]:\n",
    "            fbids_to_tsv(tsv, algorithm, 8, 1)\n",
    "\n",
    "run(tsv)\n",
    "results=get_results(tsv)\n",
    "print(results)\n",
    "\n",
    "# X: Numver of records(log)\n",
    "# Y: times"
   ]
  },
  {
   "cell_type": "markdown",
   "metadata": {},
   "source": [
    "#### Figure 11"
   ]
  },
  {
   "cell_type": "code",
   "execution_count": 28,
   "metadata": {},
   "outputs": [
    {
     "name": "stdout",
     "output_type": "stream",
     "text": [
      "[35.696086, 36.944104, 41.403593, 45.838584, 51.119901, 56.512681, 61.899464, 68.122536, 81.162991, 82.329721, 92.825197, 124.917253]\n"
     ]
    }
   ],
   "source": [
    "tsv=\"fig11.tsv\"\n",
    "rm_tsv(tsv)\n",
    "\n",
    "for algorithm in [\"tip\", \"bs\"]:\n",
    "    for recordSize in [8,32,128]:\n",
    "            freq1_to_tsv(tsv, algorithm, recordSize, 1)\n",
    "            \n",
    "for algorithm in [\"tip\", \"bs\"]:\n",
    "    for recordSize in [8,32,128]:\n",
    "            freq2_to_tsv(tsv, algorithm, recordSize, 1)\n",
    "    \n",
    "\n",
    "run(tsv)\n",
    "results=get_results(tsv)\n",
    "print(results)\n",
    "\n",
    "# X: Numver of records(log)\n",
    "# Y: times"
   ]
  },
  {
   "cell_type": "markdown",
   "metadata": {},
   "source": [
    "#### Figure 12"
   ]
  },
  {
   "cell_type": "code",
   "execution_count": 29,
   "metadata": {},
   "outputs": [
    {
     "name": "stdout",
     "output_type": "stream",
     "text": [
      "[23.181, 23.3761, 33.85908]\n"
     ]
    }
   ],
   "source": [
    "tsv=\"fig12.tsv\"\n",
    "rm_tsv(tsv)\n",
    "\n",
    "#TODO(faster)\n",
    "for datasetSize in [3,4,5]:#6,7,8]:\n",
    "        UaR_to_tsv(tsv, 10**datasetSize, \"sip\", 8, 1,42)\n",
    "\n",
    "run(tsv)\n",
    "results=get_results(tsv)\n",
    "print(results)\n",
    "\n",
    "# X: Numver of records(log)\n",
    "# Y: times"
   ]
  },
  {
   "cell_type": "markdown",
   "metadata": {},
   "source": [
    "#### Figure 18"
   ]
  },
  {
   "cell_type": "code",
   "execution_count": 30,
   "metadata": {},
   "outputs": [
    {
     "name": "stdout",
     "output_type": "stream",
     "text": [
      "[54.91195, 61.427125, 69.491394, 70.331322, 22.71505, 24.6945, 25.004212, 25.211584]\n"
     ]
    }
   ],
   "source": [
    "tsv=\"fig18.tsv\"\n",
    "rm_tsv(tsv)\n",
    "\n",
    "#TODO(faster)\n",
    "for algorithm in [\"bs\", \"sip\"]:\n",
    "    for threads in [2,8,16,32]:\n",
    "        UaR_to_tsv(tsv, 10**4, algorithm, 8, threads,42)\n",
    "#         UaR_to_tsv(tsv, 10**8, \"sip\", 8, threads,42)\n",
    "\n",
    "run(tsv)\n",
    "results=get_results(tsv)\n",
    "print(results)\n",
    "\n",
    "# X: Numver of records(log)\n",
    "# Y: times"
   ]
  },
  {
   "cell_type": "code",
   "execution_count": null,
   "metadata": {},
   "outputs": [],
   "source": []
  }
 ],
 "metadata": {
  "kernelspec": {
   "display_name": "Python 3",
   "language": "python",
   "name": "python3"
  },
  "language_info": {
   "codemirror_mode": {
    "name": "ipython",
    "version": 3
   },
   "file_extension": ".py",
   "mimetype": "text/x-python",
   "name": "python",
   "nbconvert_exporter": "python",
   "pygments_lexer": "ipython3",
   "version": "3.7.3"
  }
 },
 "nbformat": 4,
 "nbformat_minor": 2
}
